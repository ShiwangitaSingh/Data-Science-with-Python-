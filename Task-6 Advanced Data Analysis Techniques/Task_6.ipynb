{
 "cells": [
  {
   "cell_type": "code",
   "execution_count": 1,
   "id": "1723bd17-f105-4dfc-9c67-6e49c26ef331",
   "metadata": {},
   "outputs": [],
   "source": [
    "import pandas as pd\n",
    "import numpy as np\n",
    "import matplotlib.pyplot as plt\n",
    "import seaborn as sns"
   ]
  },
  {
   "cell_type": "code",
   "execution_count": 2,
   "id": "57d9ef34-5117-4649-8843-cd89a46bef1c",
   "metadata": {},
   "outputs": [],
   "source": [
    "df = pd.read_csv('C:\\\\Users\\\\shiwa\\\\Downloads\\\\disney_plus_titles.csv')"
   ]
  },
  {
   "cell_type": "code",
   "execution_count": 4,
   "id": "4d0bf41d-26f5-4725-a583-c29edbec1ab4",
   "metadata": {},
   "outputs": [
    {
     "data": {
      "text/html": [
       "<div>\n",
       "<style scoped>\n",
       "    .dataframe tbody tr th:only-of-type {\n",
       "        vertical-align: middle;\n",
       "    }\n",
       "\n",
       "    .dataframe tbody tr th {\n",
       "        vertical-align: top;\n",
       "    }\n",
       "\n",
       "    .dataframe thead th {\n",
       "        text-align: right;\n",
       "    }\n",
       "</style>\n",
       "<table border=\"1\" class=\"dataframe\">\n",
       "  <thead>\n",
       "    <tr style=\"text-align: right;\">\n",
       "      <th></th>\n",
       "      <th>show_id</th>\n",
       "      <th>type</th>\n",
       "      <th>title</th>\n",
       "      <th>director</th>\n",
       "      <th>cast</th>\n",
       "      <th>country</th>\n",
       "      <th>date_added</th>\n",
       "      <th>release_year</th>\n",
       "      <th>rating</th>\n",
       "      <th>duration</th>\n",
       "      <th>listed_in</th>\n",
       "      <th>description</th>\n",
       "    </tr>\n",
       "  </thead>\n",
       "  <tbody>\n",
       "    <tr>\n",
       "      <th>0</th>\n",
       "      <td>s1</td>\n",
       "      <td>Movie</td>\n",
       "      <td>A Spark Story</td>\n",
       "      <td>Jason Sterman, Leanne Dare</td>\n",
       "      <td>Apthon Corbin, Louis Gonzales</td>\n",
       "      <td>NaN</td>\n",
       "      <td>September 24, 2021</td>\n",
       "      <td>2021</td>\n",
       "      <td>TV-PG</td>\n",
       "      <td>88 min</td>\n",
       "      <td>Documentary</td>\n",
       "      <td>Two Pixar filmmakers strive to bring their uni...</td>\n",
       "    </tr>\n",
       "    <tr>\n",
       "      <th>1</th>\n",
       "      <td>s2</td>\n",
       "      <td>Movie</td>\n",
       "      <td>Spooky Buddies</td>\n",
       "      <td>Robert Vince</td>\n",
       "      <td>Tucker Albrizzi, Diedrich Bader, Ameko Eks Mas...</td>\n",
       "      <td>United States, Canada</td>\n",
       "      <td>September 24, 2021</td>\n",
       "      <td>2011</td>\n",
       "      <td>G</td>\n",
       "      <td>93 min</td>\n",
       "      <td>Comedy, Fantasy, Kids</td>\n",
       "      <td>The puppies go on a spooky adventure through a...</td>\n",
       "    </tr>\n",
       "    <tr>\n",
       "      <th>2</th>\n",
       "      <td>s3</td>\n",
       "      <td>Movie</td>\n",
       "      <td>The Fault in Our Stars</td>\n",
       "      <td>Josh Boone</td>\n",
       "      <td>Shailene Woodley, Ansel Elgort, Laura Dern, Sa...</td>\n",
       "      <td>United States</td>\n",
       "      <td>September 24, 2021</td>\n",
       "      <td>2014</td>\n",
       "      <td>PG-13</td>\n",
       "      <td>127 min</td>\n",
       "      <td>Coming of Age, Drama, Romance</td>\n",
       "      <td>Hazel and Gus share a love that sweeps them on...</td>\n",
       "    </tr>\n",
       "  </tbody>\n",
       "</table>\n",
       "</div>"
      ],
      "text/plain": [
       "  show_id   type                   title                    director  \\\n",
       "0      s1  Movie           A Spark Story  Jason Sterman, Leanne Dare   \n",
       "1      s2  Movie          Spooky Buddies                Robert Vince   \n",
       "2      s3  Movie  The Fault in Our Stars                  Josh Boone   \n",
       "\n",
       "                                                cast                country  \\\n",
       "0                      Apthon Corbin, Louis Gonzales                    NaN   \n",
       "1  Tucker Albrizzi, Diedrich Bader, Ameko Eks Mas...  United States, Canada   \n",
       "2  Shailene Woodley, Ansel Elgort, Laura Dern, Sa...          United States   \n",
       "\n",
       "           date_added  release_year rating duration  \\\n",
       "0  September 24, 2021          2021  TV-PG   88 min   \n",
       "1  September 24, 2021          2011      G   93 min   \n",
       "2  September 24, 2021          2014  PG-13  127 min   \n",
       "\n",
       "                       listed_in  \\\n",
       "0                    Documentary   \n",
       "1          Comedy, Fantasy, Kids   \n",
       "2  Coming of Age, Drama, Romance   \n",
       "\n",
       "                                         description  \n",
       "0  Two Pixar filmmakers strive to bring their uni...  \n",
       "1  The puppies go on a spooky adventure through a...  \n",
       "2  Hazel and Gus share a love that sweeps them on...  "
      ]
     },
     "execution_count": 4,
     "metadata": {},
     "output_type": "execute_result"
    }
   ],
   "source": [
    "df.head(3)"
   ]
  },
  {
   "cell_type": "code",
   "execution_count": 5,
   "id": "afc21ac9-5aa4-4304-888d-c362eca879b5",
   "metadata": {},
   "outputs": [
    {
     "data": {
      "text/plain": [
       "(1368, 12)"
      ]
     },
     "execution_count": 5,
     "metadata": {},
     "output_type": "execute_result"
    }
   ],
   "source": [
    "df.shape"
   ]
  },
  {
   "cell_type": "code",
   "execution_count": 6,
   "id": "df5ff9d5-0b50-44fd-b379-ac53627b68e2",
   "metadata": {},
   "outputs": [
    {
     "name": "stdout",
     "output_type": "stream",
     "text": [
      "<class 'pandas.core.frame.DataFrame'>\n",
      "RangeIndex: 1368 entries, 0 to 1367\n",
      "Data columns (total 12 columns):\n",
      " #   Column        Non-Null Count  Dtype \n",
      "---  ------        --------------  ----- \n",
      " 0   show_id       1368 non-null   object\n",
      " 1   type          1368 non-null   object\n",
      " 2   title         1368 non-null   object\n",
      " 3   director      928 non-null    object\n",
      " 4   cast          1194 non-null   object\n",
      " 5   country       1193 non-null   object\n",
      " 6   date_added    1365 non-null   object\n",
      " 7   release_year  1368 non-null   int64 \n",
      " 8   rating        1366 non-null   object\n",
      " 9   duration      1368 non-null   object\n",
      " 10  listed_in     1368 non-null   object\n",
      " 11  description   1368 non-null   object\n",
      "dtypes: int64(1), object(11)\n",
      "memory usage: 128.4+ KB\n"
     ]
    }
   ],
   "source": [
    "df.info()"
   ]
  },
  {
   "cell_type": "code",
   "execution_count": 7,
   "id": "33d9c3f9-290c-4c24-ab61-16de13aeaa9b",
   "metadata": {},
   "outputs": [
    {
     "data": {
      "text/plain": [
       "794"
      ]
     },
     "execution_count": 7,
     "metadata": {},
     "output_type": "execute_result"
    }
   ],
   "source": [
    "df.isnull().sum().sum()"
   ]
  },
  {
   "cell_type": "code",
   "execution_count": 8,
   "id": "d100a454-a401-44c5-8883-58836015c80b",
   "metadata": {},
   "outputs": [
    {
     "data": {
      "text/plain": [
       "0"
      ]
     },
     "execution_count": 8,
     "metadata": {},
     "output_type": "execute_result"
    }
   ],
   "source": [
    "df['release_year'].isnull().sum()"
   ]
  },
  {
   "cell_type": "code",
   "execution_count": 10,
   "id": "335202f6-928d-4b93-8926-db43450dbc02",
   "metadata": {},
   "outputs": [
    {
     "data": {
      "text/plain": [
       "0"
      ]
     },
     "execution_count": 10,
     "metadata": {},
     "output_type": "execute_result"
    }
   ],
   "source": [
    "df.fillna(0, inplace = True)\n",
    "df.isnull().sum().sum()"
   ]
  },
  {
   "cell_type": "code",
   "execution_count": 11,
   "id": "0d9b1166-3903-45a2-82eb-6eac96dc870e",
   "metadata": {},
   "outputs": [
    {
     "data": {
      "text/plain": [
       "0"
      ]
     },
     "execution_count": 11,
     "metadata": {},
     "output_type": "execute_result"
    }
   ],
   "source": [
    "df.duplicated().sum()"
   ]
  },
  {
   "cell_type": "code",
   "execution_count": 17,
   "id": "33f37709-155f-427a-9c79-a23a0fb4058b",
   "metadata": {},
   "outputs": [
    {
     "data": {
      "text/plain": [
       "release_year\n",
       "2020    109\n",
       "2019     97\n",
       "2021     82\n",
       "2017     67\n",
       "2018     65\n",
       "       ... \n",
       "1928      1\n",
       "1970      1\n",
       "1944      1\n",
       "1945      1\n",
       "1968      1\n",
       "Name: count, Length: 90, dtype: int64"
      ]
     },
     "execution_count": 17,
     "metadata": {},
     "output_type": "execute_result"
    }
   ],
   "source": [
    "df['release_year'].value_counts()"
   ]
  },
  {
   "cell_type": "code",
   "execution_count": 18,
   "id": "7c728eed-4838-4073-b5b2-fe2619ec3ad0",
   "metadata": {},
   "outputs": [
    {
     "data": {
      "text/plain": [
       "type\n",
       "Movie      991\n",
       "TV Show    377\n",
       "Name: count, dtype: int64"
      ]
     },
     "execution_count": 18,
     "metadata": {},
     "output_type": "execute_result"
    }
   ],
   "source": [
    "df['type'].value_counts()"
   ]
  },
  {
   "cell_type": "code",
   "execution_count": 19,
   "id": "8063f4f5-8092-4d79-bd4d-a9ecd64a3579",
   "metadata": {},
   "outputs": [
    {
     "data": {
      "text/plain": [
       "listed_in\n",
       "Animation, Comedy, Family                120\n",
       "Action-Adventure, Animation, Comedy       75\n",
       "Action-Adventure, Animation, Kids         45\n",
       "Animals & Nature, Documentary, Family     40\n",
       "Action-Adventure, Animation, Family       40\n",
       "                                        ... \n",
       "Animation, Documentary, Family             1\n",
       "Action-Adventure, Crime, Fantasy           1\n",
       "Comedy, Coming of Age, Medical             1\n",
       "Drama, Family, Historical                  1\n",
       "Animation, Family, Mystery                 1\n",
       "Name: count, Length: 317, dtype: int64"
      ]
     },
     "execution_count": 19,
     "metadata": {},
     "output_type": "execute_result"
    }
   ],
   "source": [
    "df['listed_in'].value_counts()"
   ]
  },
  {
   "cell_type": "code",
   "execution_count": null,
   "id": "3a5adce3-2746-4a28-afcf-7ddb1f692787",
   "metadata": {},
   "outputs": [],
   "source": []
  }
 ],
 "metadata": {
  "kernelspec": {
   "display_name": "Python 3 (ipykernel)",
   "language": "python",
   "name": "python3"
  },
  "language_info": {
   "codemirror_mode": {
    "name": "ipython",
    "version": 3
   },
   "file_extension": ".py",
   "mimetype": "text/x-python",
   "name": "python",
   "nbconvert_exporter": "python",
   "pygments_lexer": "ipython3",
   "version": "3.11.9"
  }
 },
 "nbformat": 4,
 "nbformat_minor": 5
}
