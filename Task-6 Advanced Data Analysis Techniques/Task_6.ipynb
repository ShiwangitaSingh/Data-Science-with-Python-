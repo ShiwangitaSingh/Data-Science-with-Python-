{
 "cells": [
  {
   "cell_type": "markdown",
   "id": "2cf5a0ee-8f8d-40a0-852f-7a37d3d02d72",
   "metadata": {},
   "source": [
    "# **Advanced Data Analysis Techniques**"
   ]
  },
  {
   "cell_type": "markdown",
   "id": "434d36c6-3f7e-4908-8c95-ef6369223c44",
   "metadata": {},
   "source": [
    "## **Data Preprocessing**"
   ]
  },
  {
   "cell_type": "code",
   "execution_count": 87,
   "id": "1723bd17-f105-4dfc-9c67-6e49c26ef331",
   "metadata": {},
   "outputs": [],
   "source": [
    "# Importing important libraries\n",
    "import pandas as pd\n",
    "import numpy as np\n",
    "import matplotlib.pyplot as plt\n",
    "import seaborn as sns"
   ]
  },
  {
   "cell_type": "code",
   "execution_count": 88,
   "id": "57d9ef34-5117-4649-8843-cd89a46bef1c",
   "metadata": {},
   "outputs": [],
   "source": [
    "# Loading data\n",
    "df = pd.read_csv('C:\\\\Users\\\\shiwa\\\\Downloads\\\\disney_plus_titles.csv')"
   ]
  },
  {
   "cell_type": "code",
   "execution_count": 89,
   "id": "4d0bf41d-26f5-4725-a583-c29edbec1ab4",
   "metadata": {},
   "outputs": [
    {
     "data": {
      "text/html": [
       "<div>\n",
       "<style scoped>\n",
       "    .dataframe tbody tr th:only-of-type {\n",
       "        vertical-align: middle;\n",
       "    }\n",
       "\n",
       "    .dataframe tbody tr th {\n",
       "        vertical-align: top;\n",
       "    }\n",
       "\n",
       "    .dataframe thead th {\n",
       "        text-align: right;\n",
       "    }\n",
       "</style>\n",
       "<table border=\"1\" class=\"dataframe\">\n",
       "  <thead>\n",
       "    <tr style=\"text-align: right;\">\n",
       "      <th></th>\n",
       "      <th>show_id</th>\n",
       "      <th>type</th>\n",
       "      <th>title</th>\n",
       "      <th>director</th>\n",
       "      <th>cast</th>\n",
       "      <th>country</th>\n",
       "      <th>date_added</th>\n",
       "      <th>release_year</th>\n",
       "      <th>rating</th>\n",
       "      <th>duration</th>\n",
       "      <th>listed_in</th>\n",
       "      <th>description</th>\n",
       "    </tr>\n",
       "  </thead>\n",
       "  <tbody>\n",
       "    <tr>\n",
       "      <th>0</th>\n",
       "      <td>s1</td>\n",
       "      <td>Movie</td>\n",
       "      <td>A Spark Story</td>\n",
       "      <td>Jason Sterman, Leanne Dare</td>\n",
       "      <td>Apthon Corbin, Louis Gonzales</td>\n",
       "      <td>NaN</td>\n",
       "      <td>September 24, 2021</td>\n",
       "      <td>2021</td>\n",
       "      <td>TV-PG</td>\n",
       "      <td>88 min</td>\n",
       "      <td>Documentary</td>\n",
       "      <td>Two Pixar filmmakers strive to bring their uni...</td>\n",
       "    </tr>\n",
       "    <tr>\n",
       "      <th>1</th>\n",
       "      <td>s2</td>\n",
       "      <td>Movie</td>\n",
       "      <td>Spooky Buddies</td>\n",
       "      <td>Robert Vince</td>\n",
       "      <td>Tucker Albrizzi, Diedrich Bader, Ameko Eks Mas...</td>\n",
       "      <td>United States, Canada</td>\n",
       "      <td>September 24, 2021</td>\n",
       "      <td>2011</td>\n",
       "      <td>G</td>\n",
       "      <td>93 min</td>\n",
       "      <td>Comedy, Fantasy, Kids</td>\n",
       "      <td>The puppies go on a spooky adventure through a...</td>\n",
       "    </tr>\n",
       "    <tr>\n",
       "      <th>2</th>\n",
       "      <td>s3</td>\n",
       "      <td>Movie</td>\n",
       "      <td>The Fault in Our Stars</td>\n",
       "      <td>Josh Boone</td>\n",
       "      <td>Shailene Woodley, Ansel Elgort, Laura Dern, Sa...</td>\n",
       "      <td>United States</td>\n",
       "      <td>September 24, 2021</td>\n",
       "      <td>2014</td>\n",
       "      <td>PG-13</td>\n",
       "      <td>127 min</td>\n",
       "      <td>Coming of Age, Drama, Romance</td>\n",
       "      <td>Hazel and Gus share a love that sweeps them on...</td>\n",
       "    </tr>\n",
       "  </tbody>\n",
       "</table>\n",
       "</div>"
      ],
      "text/plain": [
       "  show_id   type                   title                    director  \\\n",
       "0      s1  Movie           A Spark Story  Jason Sterman, Leanne Dare   \n",
       "1      s2  Movie          Spooky Buddies                Robert Vince   \n",
       "2      s3  Movie  The Fault in Our Stars                  Josh Boone   \n",
       "\n",
       "                                                cast                country  \\\n",
       "0                      Apthon Corbin, Louis Gonzales                    NaN   \n",
       "1  Tucker Albrizzi, Diedrich Bader, Ameko Eks Mas...  United States, Canada   \n",
       "2  Shailene Woodley, Ansel Elgort, Laura Dern, Sa...          United States   \n",
       "\n",
       "           date_added  release_year rating duration  \\\n",
       "0  September 24, 2021          2021  TV-PG   88 min   \n",
       "1  September 24, 2021          2011      G   93 min   \n",
       "2  September 24, 2021          2014  PG-13  127 min   \n",
       "\n",
       "                       listed_in  \\\n",
       "0                    Documentary   \n",
       "1          Comedy, Fantasy, Kids   \n",
       "2  Coming of Age, Drama, Romance   \n",
       "\n",
       "                                         description  \n",
       "0  Two Pixar filmmakers strive to bring their uni...  \n",
       "1  The puppies go on a spooky adventure through a...  \n",
       "2  Hazel and Gus share a love that sweeps them on...  "
      ]
     },
     "execution_count": 89,
     "metadata": {},
     "output_type": "execute_result"
    }
   ],
   "source": [
    "df.head(3)"
   ]
  },
  {
   "cell_type": "code",
   "execution_count": 90,
   "id": "afc21ac9-5aa4-4304-888d-c362eca879b5",
   "metadata": {},
   "outputs": [
    {
     "data": {
      "text/plain": [
       "(1368, 12)"
      ]
     },
     "execution_count": 90,
     "metadata": {},
     "output_type": "execute_result"
    }
   ],
   "source": [
    "df.shape"
   ]
  },
  {
   "cell_type": "code",
   "execution_count": 91,
   "id": "df5ff9d5-0b50-44fd-b379-ac53627b68e2",
   "metadata": {},
   "outputs": [
    {
     "name": "stdout",
     "output_type": "stream",
     "text": [
      "<class 'pandas.core.frame.DataFrame'>\n",
      "RangeIndex: 1368 entries, 0 to 1367\n",
      "Data columns (total 12 columns):\n",
      " #   Column        Non-Null Count  Dtype \n",
      "---  ------        --------------  ----- \n",
      " 0   show_id       1368 non-null   object\n",
      " 1   type          1368 non-null   object\n",
      " 2   title         1368 non-null   object\n",
      " 3   director      928 non-null    object\n",
      " 4   cast          1194 non-null   object\n",
      " 5   country       1193 non-null   object\n",
      " 6   date_added    1365 non-null   object\n",
      " 7   release_year  1368 non-null   int64 \n",
      " 8   rating        1366 non-null   object\n",
      " 9   duration      1368 non-null   object\n",
      " 10  listed_in     1368 non-null   object\n",
      " 11  description   1368 non-null   object\n",
      "dtypes: int64(1), object(11)\n",
      "memory usage: 128.4+ KB\n"
     ]
    }
   ],
   "source": [
    "df.info()"
   ]
  },
  {
   "cell_type": "markdown",
   "id": "a8e832c5-a34a-4476-ae15-23cf935072f4",
   "metadata": {},
   "source": [
    "### **Data Transformation**"
   ]
  },
  {
   "cell_type": "code",
   "execution_count": 129,
   "id": "ea6fa28d-b7e3-4d3a-a692-6ba946f13db3",
   "metadata": {},
   "outputs": [],
   "source": [
    "# Creating new columns from existing column\n",
    "df[['g1','g2','g3']] = df['listed_in'].str.split(',', expand = True)"
   ]
  },
  {
   "cell_type": "markdown",
   "id": "5ccc99bc-8259-4113-8a09-59bb743da507",
   "metadata": {},
   "source": [
    "### **Data Reduction**"
   ]
  },
  {
   "cell_type": "code",
   "execution_count": 92,
   "id": "6296f784-66f0-4025-9353-473d6453c78b",
   "metadata": {},
   "outputs": [],
   "source": [
    "# Removing unnecessary columns\n",
    "df.drop(['show_id', 'description', 'listed_in'], axis = 1 ,inplace = True)"
   ]
  },
  {
   "cell_type": "markdown",
   "id": "d8d94c8e-0db7-4f86-ba26-ca0d7e4a1e5e",
   "metadata": {},
   "source": [
    "### **Data Cleaning**"
   ]
  },
  {
   "cell_type": "code",
   "execution_count": 94,
   "id": "33d9c3f9-290c-4c24-ab61-16de13aeaa9b",
   "metadata": {},
   "outputs": [
    {
     "data": {
      "text/plain": [
       "type              0\n",
       "title             0\n",
       "director        440\n",
       "cast            174\n",
       "country         175\n",
       "date_added        3\n",
       "release_year      0\n",
       "rating            2\n",
       "duration          0\n",
       "listed_in         0\n",
       "g1                0\n",
       "g2               54\n",
       "g3              337\n",
       "dtype: int64"
      ]
     },
     "execution_count": 94,
     "metadata": {},
     "output_type": "execute_result"
    }
   ],
   "source": [
    "# Checking for null values\n",
    "df.isnull().sum()"
   ]
  },
  {
   "cell_type": "code",
   "execution_count": 95,
   "id": "67644131-bbf9-4e38-b7e1-7eff390dcbc3",
   "metadata": {},
   "outputs": [
    {
     "data": {
      "text/plain": [
       "0"
      ]
     },
     "execution_count": 95,
     "metadata": {},
     "output_type": "execute_result"
    }
   ],
   "source": [
    "# Flling null values\n",
    "df['director'] = df['director'].fillna('without director reference')\n",
    "df['director'].isnull().sum()"
   ]
  },
  {
   "cell_type": "code",
   "execution_count": 96,
   "id": "8b89b073-dc20-426b-9d63-f44fd0a222f7",
   "metadata": {},
   "outputs": [
    {
     "data": {
      "text/plain": [
       "0"
      ]
     },
     "execution_count": 96,
     "metadata": {},
     "output_type": "execute_result"
    }
   ],
   "source": [
    "df['cast'] = df['cast'].fillna('without cast reference')\n",
    "df['cast'].isnull().sum()"
   ]
  },
  {
   "cell_type": "code",
   "execution_count": 97,
   "id": "cd437538-eae1-493d-b321-8557c27a0af0",
   "metadata": {},
   "outputs": [
    {
     "data": {
      "text/plain": [
       "0"
      ]
     },
     "execution_count": 97,
     "metadata": {},
     "output_type": "execute_result"
    }
   ],
   "source": [
    "df['country'] = df['country'].fillna('without country reference')\n",
    "df['country'].isnull().sum()"
   ]
  },
  {
   "cell_type": "code",
   "execution_count": 98,
   "id": "f5083c2f-a52b-4de9-936a-b8ca9ac582bd",
   "metadata": {},
   "outputs": [
    {
     "data": {
      "text/plain": [
       "0"
      ]
     },
     "execution_count": 98,
     "metadata": {},
     "output_type": "execute_result"
    }
   ],
   "source": [
    "df['rating'] = df['rating'].fillna('without rating')\n",
    "df['rating'].isnull().sum()"
   ]
  },
  {
   "cell_type": "code",
   "execution_count": 99,
   "id": "335202f6-928d-4b93-8926-db43450dbc02",
   "metadata": {},
   "outputs": [
    {
     "data": {
      "text/plain": [
       "type            0\n",
       "title           0\n",
       "director        0\n",
       "cast            0\n",
       "country         0\n",
       "date_added      0\n",
       "release_year    0\n",
       "rating          0\n",
       "duration        0\n",
       "listed_in       0\n",
       "g1              0\n",
       "g2              0\n",
       "g3              0\n",
       "dtype: int64"
      ]
     },
     "execution_count": 99,
     "metadata": {},
     "output_type": "execute_result"
    }
   ],
   "source": [
    "# Filling null values \n",
    "df.fillna(0, inplace = True)\n",
    "df.isnull().sum()"
   ]
  },
  {
   "cell_type": "code",
   "execution_count": 100,
   "id": "0d9b1166-3903-45a2-82eb-6eac96dc870e",
   "metadata": {},
   "outputs": [
    {
     "data": {
      "text/plain": [
       "0"
      ]
     },
     "execution_count": 100,
     "metadata": {},
     "output_type": "execute_result"
    }
   ],
   "source": [
    "# Checking for duplicated values\n",
    "df.duplicated().sum()"
   ]
  },
  {
   "cell_type": "markdown",
   "id": "5f426b76-44e5-4fe4-86e2-c1be365fac3a",
   "metadata": {},
   "source": [
    "### **Data Visualization**"
   ]
  },
  {
   "cell_type": "markdown",
   "id": "216e7156-aab9-451d-86ad-2cbeba4fd2f3",
   "metadata": {},
   "source": [
    "**Questions to be answered-** <br>\n",
    "1. Which year of 20s released more numbers of Movies/TV Shows?\n",
    "2. Show the difference in Movies released and TV Shows released of top 3 year of 20s having the most released.\n",
    "3. What are the total number of movies and tv shows released? <br>\n",
    "**Que 1.** Which year of 20s released more numbers of Movies/TV Shows?\n",
    "|---|"
   ]
  },
  {
   "cell_type": "code",
   "execution_count": 121,
   "id": "33f37709-155f-427a-9c79-a23a0fb4058b",
   "metadata": {},
   "outputs": [
    {
     "data": {
      "image/png": "[encoded data removed]",
      "text/plain": [
       "<Figure size 1200x600 with 1 Axes>"
      ]
     },
     "metadata": {},
     "output_type": "display_data"
    }
   ],
   "source": [
    "ans1 = df.query('release_year >= 2000')\n",
    "plt.figure(figsize = (12,6))\n",
    "sns.set_style('dark')\n",
    "sns.countplot(ans1, x = 'release_year')\n",
    "plt.grid(True)\n",
    "plt.show()"
   ]
  },
  {
   "cell_type": "markdown",
   "id": "83191ca9-691f-4ec1-ab91-7886b51f7012",
   "metadata": {},
   "source": [
    "**Answer-** <br>\n",
    "**2020** from 20s released the hightest number of shows."
   ]
  },
  {
   "cell_type": "markdown",
   "id": "9cc3f218-0d8d-42d9-917a-d8553ad45d68",
   "metadata": {},
   "source": [
    "**Que 2.** Show the difference in Movies released and TV Shows released of top 3 year of 20s having the most released.\n",
    "|---|"
   ]
  },
  {
   "cell_type": "code",
   "execution_count": 124,
   "id": "3a5adce3-2746-4a28-afcf-7ddb1f692787",
   "metadata": {},
   "outputs": [
    {
     "data": {
      "image/png": "[encoded data removed]",
      "text/plain": [
       "<Figure size 640x480 with 1 Axes>"
      ]
     },
     "metadata": {},
     "output_type": "display_data"
    }
   ],
   "source": [
    "ans2 = df.query('release_year == [2020,2021,2019]')\n",
    "sns.countplot(ans2, x = 'release_year', hue = 'type')\n",
    "plt.grid(True)\n",
    "plt.show()"
   ]
  },
  {
   "cell_type": "markdown",
   "id": "24946729-e415-461f-b18d-8c3e7ba6ea45",
   "metadata": {},
   "source": [
    "**Answer-** <br>\n",
    "Showing the difference between Movies released and TV Shows released of 2019, 2020 and 2021."
   ]
  },
  {
   "cell_type": "markdown",
   "id": "2b59324c-0d4c-4993-9eb5-40e5afbe1b77",
   "metadata": {},
   "source": [
    "**Que 3.** What are the total number of movies and tv shows released?\n",
    "|---|"
   ]
  },
  {
   "cell_type": "code",
   "execution_count": 127,
   "id": "69dbc3fc-8a82-4f61-a712-9ab1602c350b",
   "metadata": {},
   "outputs": [
    {
     "data": {
      "text/plain": [
       "type\n",
       "Movie      991\n",
       "TV Show    377\n",
       "Name: count, dtype: int64"
      ]
     },
     "execution_count": 127,
     "metadata": {},
     "output_type": "execute_result"
    }
   ],
   "source": [
    "ans3 = df['type'].value_counts()\n",
    "ans3"
   ]
  },
  {
   "cell_type": "code",
   "execution_count": 128,
   "id": "7c728eed-4838-4073-b5b2-fe2619ec3ad0",
   "metadata": {},
   "outputs": [
    {
     "data": {
      "image/png": "[encoded data removed]",
      "text/plain": [
       "<Figure size 640x480 with 1 Axes>"
      ]
     },
     "metadata": {},
     "output_type": "display_data"
    }
   ],
   "source": [
    "plt.pie(ans3, labels = ['Movies', 'TV Show'])\n",
    "plt.show()"
   ]
  },
  {
   "cell_type": "markdown",
   "id": "32722af3-1b8e-4dcc-b1a2-4c74c2b7d323",
   "metadata": {},
   "source": [
    "**Answer-** <br>\n",
    "Total number of Movie released is **991** <br>\n",
    "Total number of TV Shows released is **377** "
   ]
  },
  {
   "cell_type": "markdown",
   "id": "64cf1259-b0b1-4e72-a702-be672448e8be",
   "metadata": {},
   "source": [
    "**Que 4.** Which year  has released the most Action-Adventure movies/tv shows"
   ]
  },
  {
   "cell_type": "code",
   "execution_count": 125,
   "id": "e337ffc8-6501-4502-973e-b508a205732f",
   "metadata": {},
   "outputs": [
    {
     "data": {
      "image/png": "[encoded data removed]",
      "text/plain": [
       "<Figure size 1200x600 with 1 Axes>"
      ]
     },
     "metadata": {},
     "output_type": "display_data"
    }
   ],
   "source": [
    "acad = df.query(\"release_year >= 2000 and g1 == 'Action-Adventure'  or g2 == 'Action-Adventure' or g3 == 'Action-Adventure'\")\n",
    "plt.figure(figsize = (12,6))\n",
    "sns.countplot(acad, x = 'release_year')\n",
    "plt.grid(True)\n",
    "plt.show()"
   ]
  },
  {
   "cell_type": "markdown",
   "id": "3c372599-3c96-4174-9d8a-2bf9c59a391c",
   "metadata": {},
   "source": [
    "**Observation**\n"
   ]
  },
  {
   "cell_type": "code",
   "execution_count": null,
   "id": "ba141853-695b-492a-a3a8-bec580212933",
   "metadata": {},
   "outputs": [],
   "source": []
  }
 ],
 "metadata": {
  "kernelspec": {
   "display_name": "Python 3 (ipykernel)",
   "language": "python",
   "name": "python3"
  },
  "language_info": {
   "codemirror_mode": {
    "name": "ipython",
    "version": 3
   },
   "file_extension": ".py",
   "mimetype": "text/x-python",
   "name": "python",
   "nbconvert_exporter": "python",
   "pygments_lexer": "ipython3",
   "version": "3.11.9"
  }
 },
 "nbformat": 4,
 "nbformat_minor": 5
}
